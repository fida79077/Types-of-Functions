{
  "nbformat": 4,
  "nbformat_minor": 0,
  "metadata": {
    "colab": {
      "provenance": []
    },
    "kernelspec": {
      "name": "python3",
      "display_name": "Python 3"
    },
    "language_info": {
      "name": "python"
    }
  },
  "cells": [
    {
      "cell_type": "markdown",
      "source": [
        "Lambda functions are similar to user defined function but without a name .\n",
        "They are commonly reffered to as anonymous function.\n",
        "\n",
        "Syntax :\n",
        "lambda arguments(s):expression\n",
        "\n",
        "lambda is a key word in python for defining the anonymous function.\n",
        "arguments() is a placeholder, that is a variable thet will be used to hold the value you want to pass into the function expression . A lambda function can have multiple variables depending on what you want to achive.\n",
        "expression is the code you want to execute in the lambda function"
      ],
      "metadata": {
        "id": "Dsst7Dm29TUr"
      }
    },
    {
      "cell_type": "code",
      "source": [
        "# hello\n",
        "OLLEH"
      ],
      "metadata": {
        "colab": {
          "base_uri": "https://localhost:8080/",
          "height": 159
        },
        "id": "p8FgZc8V4vtT",
        "outputId": "75ed4b8e-d57b-4fc9-d52b-fdad70360040",
        "collapsed": true
      },
      "execution_count": null,
      "outputs": [
        {
          "output_type": "error",
          "ename": "NameError",
          "evalue": "name 'OLLEH' is not defined",
          "traceback": [
            "\u001b[0;31m---------------------------------------------------------------------------\u001b[0m",
            "\u001b[0;31mNameError\u001b[0m                                 Traceback (most recent call last)",
            "\u001b[0;32m<ipython-input-1-90ba2eeaf80e>\u001b[0m in \u001b[0;36m<cell line: 2>\u001b[0;34m()\u001b[0m\n\u001b[1;32m      1\u001b[0m \u001b[0;31m# hello\u001b[0m\u001b[0;34m\u001b[0m\u001b[0;34m\u001b[0m\u001b[0m\n\u001b[0;32m----> 2\u001b[0;31m \u001b[0mOLLEH\u001b[0m\u001b[0;34m\u001b[0m\u001b[0;34m\u001b[0m\u001b[0m\n\u001b[0m",
            "\u001b[0;31mNameError\u001b[0m: name 'OLLEH' is not defined"
          ]
        }
      ]
    },
    {
      "cell_type": "code",
      "source": [
        "#user defined function\n",
        "def functionnames (n1 , n2):\n",
        "\n",
        "  expression"
      ],
      "metadata": {
        "id": "y5q4h-TR_DO1"
      },
      "execution_count": null,
      "outputs": []
    },
    {
      "cell_type": "code",
      "source": [
        "def exp(x):\n",
        "\n",
        "  return x ** 2\n",
        "\n",
        "exp(5)"
      ],
      "metadata": {
        "colab": {
          "base_uri": "https://localhost:8080/"
        },
        "id": "JV82PniS_WWM",
        "outputId": "c4514b57-be53-44d8-9f36-fe27e888646a"
      },
      "execution_count": null,
      "outputs": [
        {
          "output_type": "execute_result",
          "data": {
            "text/plain": [
              "25"
            ]
          },
          "metadata": {},
          "execution_count": 7
        }
      ]
    },
    {
      "cell_type": "code",
      "source": [
        "x = lambda x : x**2\n",
        "\n",
        "print(x(4))"
      ],
      "metadata": {
        "colab": {
          "base_uri": "https://localhost:8080/"
        },
        "id": "TrF3lpRD_idU",
        "outputId": "f142555e-6ca4-4989-e0f0-6eca306d6ece"
      },
      "execution_count": null,
      "outputs": [
        {
          "output_type": "stream",
          "name": "stdout",
          "text": [
            "16\n"
          ]
        }
      ]
    },
    {
      "cell_type": "code",
      "source": [
        "print((lambda x : x** 2)(4))"
      ],
      "metadata": {
        "colab": {
          "base_uri": "https://localhost:8080/"
        },
        "id": "zoANyGCA_wF0",
        "outputId": "4ff2a44c-f3ea-4fdb-d7d8-ae20b6179f00"
      },
      "execution_count": null,
      "outputs": [
        {
          "output_type": "stream",
          "name": "stdout",
          "text": [
            "16\n"
          ]
        }
      ]
    },
    {
      "cell_type": "code",
      "source": [
        "x = lambda x : x.upper()[::-1]\n",
        "\n",
        "print(x('hellow'))"
      ],
      "metadata": {
        "colab": {
          "base_uri": "https://localhost:8080/"
        },
        "id": "cI8Qb-BY_9JA",
        "outputId": "3b0852a3-85c1-4151-d46f-535280470482"
      },
      "execution_count": null,
      "outputs": [
        {
          "output_type": "stream",
          "name": "stdout",
          "text": [
            "WOLLEH\n"
          ]
        }
      ]
    },
    {
      "cell_type": "code",
      "source": [
        "x = lambda x , y : x-y if x>y else y-x\n",
        "\n",
        "print(x(2,4))"
      ],
      "metadata": {
        "colab": {
          "base_uri": "https://localhost:8080/"
        },
        "id": "hLmYdtxgAF5G",
        "outputId": "451d4094-01b9-4f79-cd4e-d77f5ae0f44f"
      },
      "execution_count": null,
      "outputs": [
        {
          "output_type": "stream",
          "name": "stdout",
          "text": [
            "2\n"
          ]
        }
      ]
    },
    {
      "cell_type": "markdown",
      "source": [
        "n1 , n2\n",
        "\n",
        "n1 - n2\n",
        "\n",
        "n2 - n1"
      ],
      "metadata": {
        "id": "6tg5HyaYAaWB"
      }
    },
    {
      "cell_type": "code",
      "source": [
        "x = lambda x : 'even' if x%2 == 0 else 'odd'\n",
        "\n",
        "print(x(1))"
      ],
      "metadata": {
        "colab": {
          "base_uri": "https://localhost:8080/"
        },
        "id": "v-xurDa9AXpY",
        "outputId": "6e6ef0be-a6b5-46a2-e937-99fdba4bd8ea"
      },
      "execution_count": null,
      "outputs": [
        {
          "output_type": "stream",
          "name": "stdout",
          "text": [
            "odd\n"
          ]
        }
      ]
    },
    {
      "cell_type": "markdown",
      "source": [
        "Filter():\n",
        "\n",
        "The filter function operator on a list and returns a subset of thet list after applying the filter rule. The function filter (f,,l)needs a function f as it arguments.f returns a boolean value ie either true or false . this function will be applied to every element of the list l. only if f returns true will element of the list l . only if f returns true will the element of the list l .only if f returns true will the element of the list be included in the result list."
      ],
      "metadata": {
        "id": "QhjHAGqbA2HX"
      }
    },
    {
      "cell_type": "code",
      "source": [
        "list1 = [2,4,5,6,7,8,12,13,15,22]"
      ],
      "metadata": {
        "id": "sPQWaNAyAyFs"
      },
      "execution_count": null,
      "outputs": []
    },
    {
      "cell_type": "code",
      "source": [
        "x = filter (lambda x : x%2 == 0 , list1)\n"
      ],
      "metadata": {
        "id": "3HyIZ86yCOu5"
      },
      "execution_count": null,
      "outputs": []
    },
    {
      "cell_type": "code",
      "source": [
        "print((x))"
      ],
      "metadata": {
        "colab": {
          "base_uri": "https://localhost:8080/"
        },
        "id": "nv85ihXNCaHB",
        "outputId": "1fc5332e-52df-4086-9db4-fd99530141ef"
      },
      "execution_count": null,
      "outputs": [
        {
          "output_type": "stream",
          "name": "stdout",
          "text": [
            "<filter object at 0x7c24d9ef66e0>\n"
          ]
        }
      ]
    },
    {
      "cell_type": "code",
      "source": [
        "print(list(x))"
      ],
      "metadata": {
        "colab": {
          "base_uri": "https://localhost:8080/"
        },
        "id": "fCEgPYHCCdib",
        "outputId": "c97d6857-c8ad-4e0f-cdab-5a28bc12e9af"
      },
      "execution_count": null,
      "outputs": [
        {
          "output_type": "stream",
          "name": "stdout",
          "text": [
            "[2, 4, 6, 8, 12, 22]\n"
          ]
        }
      ]
    },
    {
      "cell_type": "code",
      "source": [
        "print(list(filter(lambda x : x%2 == 0 , list1)))"
      ],
      "metadata": {
        "colab": {
          "base_uri": "https://localhost:8080/"
        },
        "id": "6MGakaShCg3i",
        "outputId": "747cd390-8f3a-4c57-95a9-7f928c80696c"
      },
      "execution_count": null,
      "outputs": [
        {
          "output_type": "stream",
          "name": "stdout",
          "text": [
            "[2, 4, 6, 8, 12, 22]\n"
          ]
        }
      ]
    },
    {
      "cell_type": "code",
      "source": [
        "list1 = ['raju','ramu','dolu','rema','bolu','arun']\n",
        "\n",
        "print(list(filter(lambda x : x[0]=='r',list1)))"
      ],
      "metadata": {
        "colab": {
          "base_uri": "https://localhost:8080/"
        },
        "id": "umXuwZLJCu_3",
        "outputId": "25ae8701-c87b-455a-e5b7-3e86962455af"
      },
      "execution_count": null,
      "outputs": [
        {
          "output_type": "stream",
          "name": "stdout",
          "text": [
            "['raju', 'ramu', 'rema']\n"
          ]
        }
      ]
    },
    {
      "cell_type": "markdown",
      "source": [
        "**map()**"
      ],
      "metadata": {
        "id": "Q_va7MWIVzGG"
      }
    },
    {
      "cell_type": "markdown",
      "source": [
        "The map() transforms a given list in to a new list by transforming each element uing a rule , it is used to apply a function to each element of a list or any other iterable\n",
        "\n",
        "this is very useful when we do vector mathematics,he map()function will take multiple list operators on then and return the output list,one thing to note is that all the list should be of the same size because map() applies the function to corresponding element in those lists\n",
        "\n",
        "\n",
        "\n",
        "map()\n",
        "\n",
        "You use the map()function whenever you want to modify every value in iterable"
      ],
      "metadata": {
        "id": "Ts7Pun-PV4no"
      }
    },
    {
      "cell_type": "code",
      "source": [
        "#list = [2,3,4,1]\n",
        "#syntax of map()\n",
        "#print (list(map(f,list1)))"
      ],
      "metadata": {
        "id": "M7gld-NaDKSb"
      },
      "execution_count": null,
      "outputs": []
    },
    {
      "cell_type": "code",
      "source": [
        "list1 = [2,3,4,1]\n",
        "print(list(map(lambda x : x**2 , list1)))"
      ],
      "metadata": {
        "colab": {
          "base_uri": "https://localhost:8080/"
        },
        "id": "1efnQ7xpTKWn",
        "outputId": "190127e4-09ea-4965-80d0-379e5df64424"
      },
      "execution_count": null,
      "outputs": [
        {
          "output_type": "stream",
          "name": "stdout",
          "text": [
            "[4, 9, 16, 1]\n"
          ]
        }
      ]
    },
    {
      "cell_type": "code",
      "source": [
        "x = 10\n",
        "x = 'arifa'"
      ],
      "metadata": {
        "id": "KfDOzOKZYamC"
      },
      "execution_count": null,
      "outputs": []
    },
    {
      "cell_type": "code",
      "source": [
        "list1 = ['raju','ramu','dolu','bolu','reme']\n",
        "\n",
        "#list2 = [True,True,False,False,True]\n",
        "\n",
        "list2 = list(map(lambda name : name.startswith('r'),list1))\n",
        "print(list2)"
      ],
      "metadata": {
        "colab": {
          "base_uri": "https://localhost:8080/"
        },
        "id": "_i321ZqfYe3g",
        "outputId": "95e58dd5-3795-42bd-ba82-de303dc3a248"
      },
      "execution_count": null,
      "outputs": [
        {
          "output_type": "stream",
          "name": "stdout",
          "text": [
            "[True, True, False, False, True]\n"
          ]
        }
      ]
    },
    {
      "cell_type": "markdown",
      "source": [
        "**Zip Function**"
      ],
      "metadata": {
        "id": "O8zJfrGKZL9H"
      }
    },
    {
      "cell_type": "markdown",
      "source": [
        "The zip() function take iterables (can be zero or more) makes the iterator that aggregates elements based on the iterables passed , and returns an iterator or tuples\n",
        "\n",
        "syntax :\n",
        "\n",
        "zip (*iterables)"
      ],
      "metadata": {
        "id": "W2DtTjxDZRkD"
      }
    },
    {
      "cell_type": "code",
      "source": [
        "#[2,3,4],[3,2,3] = ((2,3),(3,2),(4,3))"
      ],
      "metadata": {
        "id": "fqNYW87Eb9YD"
      },
      "execution_count": null,
      "outputs": []
    },
    {
      "cell_type": "code",
      "source": [
        "#[2,3,4],[3,2,3],[2,1,4,5] = ((2,3,2),(3,4,1),(4,3,4))"
      ],
      "metadata": {
        "id": "juS9blYNcMhP"
      },
      "execution_count": null,
      "outputs": []
    },
    {
      "cell_type": "code",
      "source": [
        "#[2,3,4],['raju', 'bolu','dolu'] = ((2,'raju'),(3,'bolu')(4, 'dolu'))"
      ],
      "metadata": {
        "id": "zsFYqv23cbvt"
      },
      "execution_count": null,
      "outputs": []
    },
    {
      "cell_type": "code",
      "source": [
        "rn =  [1,2,3]\n",
        "\n",
        "name = ['raju','bolu','dolu']\n",
        "\n",
        "data = list (zip(rn,name))\n",
        "\n",
        "print(data)"
      ],
      "metadata": {
        "colab": {
          "base_uri": "https://localhost:8080/"
        },
        "id": "f0RgVekQZG1d",
        "outputId": "b62637f9-c183-4fce-9aab-2611495bb22e"
      },
      "execution_count": null,
      "outputs": [
        {
          "output_type": "stream",
          "name": "stdout",
          "text": [
            "[(1, 'raju'), (2, 'bolu'), (3, 'dolu')]\n"
          ]
        }
      ]
    },
    {
      "cell_type": "code",
      "source": [
        "rn =  [1,2,3]\n",
        "\n",
        "name = ['raju','bolu','dolu']\n",
        "\n",
        "data = dict (zip(rn,name))\n",
        "\n",
        "print(data)"
      ],
      "metadata": {
        "colab": {
          "base_uri": "https://localhost:8080/"
        },
        "id": "IqNk8EEAbwgc",
        "outputId": "b282c170-45ea-4155-ad21-79cb23d2d118"
      },
      "execution_count": null,
      "outputs": [
        {
          "output_type": "stream",
          "name": "stdout",
          "text": [
            "{1: 'raju', 2: 'bolu', 3: 'dolu'}\n"
          ]
        }
      ]
    },
    {
      "cell_type": "code",
      "source": [
        "rn =  [1,2,3]\n",
        "\n",
        "name = ['raju','bolu','dolu']\n",
        "\n",
        "data = list(zip(rn,name))\n",
        "\n",
        "print(data)"
      ],
      "metadata": {
        "colab": {
          "base_uri": "https://localhost:8080/"
        },
        "id": "wFuSO8p4c6g_",
        "outputId": "4496cd72-39bc-48ef-b3fa-eaf756d83ec4"
      },
      "execution_count": null,
      "outputs": [
        {
          "output_type": "stream",
          "name": "stdout",
          "text": [
            "[(1, 'raju'), (2, 'bolu'), (3, 'dolu')]\n"
          ]
        }
      ]
    },
    {
      "cell_type": "code",
      "source": [],
      "metadata": {
        "id": "TFlYXRmqdEHp"
      },
      "execution_count": null,
      "outputs": []
    }
  ]
}